{
 "cells": [
  {
   "cell_type": "code",
   "execution_count": 1,
   "id": "1db97c31-30a6-4e69-95ec-a84784a289c0",
   "metadata": {},
   "outputs": [],
   "source": [
    "import requests\n",
    "import json\n",
    "import numpy as np\n",
    "import pandas as pd"
   ]
  },
  {
   "cell_type": "markdown",
   "id": "81bd61ec-619a-4880-a994-b5624c20db08",
   "metadata": {},
   "source": [
    "## The project's credentials "
   ]
  },
  {
   "cell_type": "markdown",
   "id": "3257f7ee-1627-4204-94eb-46c7763cffc2",
   "metadata": {},
   "source": [
    "To use the Spotify API, you need to have a Spotify account and create a new Web API project on the Spotify API website. Afterwards, you will be provided a Client ID and a Client Secret. Every project has different Client IDs and Secrets, even if created by the same user."
   ]
  },
  {
   "cell_type": "code",
   "execution_count": 61,
   "id": "ff5a6a11-a383-405a-95c7-6e2607002955",
   "metadata": {},
   "outputs": [],
   "source": [
    "client_id = \"be7f72bc052b4a9d9430b069de69a09f\"\n",
    "client_secret = \"6a92bed59ca6490bb5b04d4393220b1f\""
   ]
  },
  {
   "cell_type": "markdown",
   "id": "2ab252ed-fe87-4e5b-9c32-927ffcfb0bc7",
   "metadata": {},
   "source": [
    "## Generate access token"
   ]
  },
  {
   "cell_type": "markdown",
   "id": "2b8cb9a6-db8f-4b98-a210-239293451d34",
   "metadata": {},
   "source": [
    "In order to gain access to Spotify data, we need an access token. This is obtained through the POST request.\n",
    "\n",
    "Afterwards, we are going to get the IDs of the artists from a given playlist (in our case, we selected \"Liked Songs\", one of my public Spotify playlists)."
   ]
  },
  {
   "cell_type": "code",
   "execution_count": 62,
   "id": "d6bd4f37-8192-4eaa-b768-19f508a92167",
   "metadata": {},
   "outputs": [
    {
     "data": {
      "text/plain": [
       "<Response [200]>"
      ]
     },
     "execution_count": 62,
     "metadata": {},
     "output_type": "execute_result"
    }
   ],
   "source": [
    "params = {\"grant_type\": \"client_credentials\", \"client_id\": client_id, \"client_secret\": client_secret}\n",
    "header = {\"Content-Type\": \"application/x-www-form-urlencoded\"}\n",
    "x = requests.post(r\"https://accounts.spotify.com/api/token\", data=params)\n",
    "\n",
    "my_cool_data = json.loads(x.text)\n",
    "access_token = my_cool_data['access_token']\n",
    "\n",
    "playlist_id = \"0NyzB57hbbDx5Enlkhw7Iv\"\n",
    "header =  {\"Authorization\": \"Bearer {}\".format(access_token)}\n",
    "# params = {\"access_token\": access_token}\n",
    "\n",
    "x = requests.get(r\"https://api.spotify.com/v1/playlists/{}\".format(playlist_id), headers=header)\n",
    "\n",
    "x"
   ]
  },
  {
   "cell_type": "markdown",
   "id": "6738416a-4f47-43c9-bae8-613c8d4c4027",
   "metadata": {},
   "source": [
    "**Response 200**: everything is okay\n",
    "\n",
    "**Response 429**: too many requests made and you are banned for 13 hours or you need to create a new app and get new Cliend Id and Secret"
   ]
  },
  {
   "cell_type": "markdown",
   "id": "52f504b9-dfa8-4b04-8f77-b8bdc710bd70",
   "metadata": {},
   "source": [
    "Below, there is an example of artist information for a track."
   ]
  },
  {
   "cell_type": "code",
   "execution_count": 4,
   "id": "1bbf3cb7-d613-45b2-b0ed-7baac2ebbf48",
   "metadata": {},
   "outputs": [
    {
     "data": {
      "text/plain": [
       "[{'external_urls': {'spotify': 'https://open.spotify.com/artist/5HFkc3t0HYETL4JeEbDB1v'},\n",
       "  'href': 'https://api.spotify.com/v1/artists/5HFkc3t0HYETL4JeEbDB1v',\n",
       "  'id': '5HFkc3t0HYETL4JeEbDB1v',\n",
       "  'name': 'Powerwolf',\n",
       "  'type': 'artist',\n",
       "  'uri': 'spotify:artist:5HFkc3t0HYETL4JeEbDB1v'}]"
      ]
     },
     "execution_count": 4,
     "metadata": {},
     "output_type": "execute_result"
    }
   ],
   "source": [
    "json.loads(x.text)['tracks']['items'][10]['track']['artists']"
   ]
  },
  {
   "cell_type": "markdown",
   "id": "29688c7f-1fef-4b2c-91fe-4b6651a67cb6",
   "metadata": {},
   "source": [
    "## IDs of the Artists in the Playlist"
   ]
  },
  {
   "cell_type": "markdown",
   "id": "f2bf3283-0fcb-47be-9618-cf08f2deb3ec",
   "metadata": {},
   "source": [
    "We are going to collect the IDs of the artists that have songs in the specified playlist and add them to a list"
   ]
  },
  {
   "cell_type": "code",
   "execution_count": 5,
   "id": "6322731e-3c48-4401-a541-b16d80d606b6",
   "metadata": {
    "scrolled": true
   },
   "outputs": [],
   "source": [
    "artists_ids = []\n",
    "artist_names = []\n",
    "dictForClarity = {}\n",
    "\n",
    "for elem in json.loads(x.text)['tracks']['items']:\n",
    "    id = elem['track']['artists'][0]['id']\n",
    "    if id not in artists_ids:\n",
    "        artists_ids.append(id)\n",
    "        artist_name = elem['track']['artists'][0]['name']\n",
    "        artist_names.append(artist_name)\n",
    "        dictForClarity[id] = artist_name\n",
    "    else:\n",
    "        continue\n",
    "\n",
    "# artists_ids\n",
    "\n",
    "# artists_id_np = np.array(artists_ids)\n",
    "# len(json.loads(x.text)['tracks']['items']), len(artists_ids), len(np.unique(artists_id_np))"
   ]
  },
  {
   "cell_type": "markdown",
   "id": "b44ae042-4360-4c3a-ba74-edbf1be8d118",
   "metadata": {},
   "source": [
    "Next, we are going to get the IDs of all the albums every artist in our list has and then collect all the tracks and their collaborating artists from every album"
   ]
  },
  {
   "cell_type": "code",
   "execution_count": 6,
   "id": "4f1c0e47-fff8-48b5-beb8-82da512b562a",
   "metadata": {},
   "outputs": [],
   "source": [
    "def extract_albums_from_artists(artists_ids):\n",
    "    \"\"\"\n",
    "        Extracts the albums for every artist having their ID in the list given as input.\n",
    "        :param artists_ids: the list of the IDs of the artists\n",
    "        :return: A list containing the IDs of all the albums belonging to the artist having the specified ID\n",
    "    \"\"\"\n",
    "    albums_ids = []\n",
    "    ct = 0\n",
    "    for elem1 in artists_ids:\n",
    "        while True:\n",
    "            albumsRequest = requests.get(r\"https://api.spotify.com/v1/artists/{}/albums\".format(elem1), headers=header)\n",
    "            if albumsRequest.status_code != 200:\n",
    "                print(\"error\", albumsRequest.status_code)\n",
    "                if albumsRequest.status_code == 429:\n",
    "                    print(\"Too many requests for the API! Stopping the process...\")\n",
    "                    break\n",
    "                else:\n",
    "                    continue\n",
    "            break\n",
    "        ct += 1\n",
    "        # print(ct)\n",
    "        for elem2 in json.loads(albumsRequest.text)[\"items\"]:\n",
    "            albums_ids.append(elem2['id'])\n",
    "\n",
    "    return albums_ids"
   ]
  },
  {
   "cell_type": "markdown",
   "id": "01bb868b-5c0c-42b6-aaf0-85b0f4d6e64a",
   "metadata": {},
   "source": [
    "We are going to store in separate lists the following information:\n",
    "- **tracks_ids**: the IDs of the tracks in an album\n",
    "- **tracks_names**: the names of all the songs in an album\n",
    "- **artists_pair_names**: pairs consisting of the names of the artists that collaborated on a song (if multiple artists are listed for a song, there will be n! pairs  of artists such that every artist from the collaborators list is paired with every other artist, but not with themselves)\n",
    "- **artists_pair_ids**: pairs consisting of the IDs of the artists that collaborated on a song, following the same logic as *artists_pair_names*\n",
    "- **albums_ids**: the IDs of the albums that we are going to use to extract the artists"
   ]
  },
  {
   "cell_type": "code",
   "execution_count": 12,
   "id": "7bf15d83-91b6-4c3b-a9a1-65dbfc894899",
   "metadata": {},
   "outputs": [],
   "source": [
    "tracks_ids = []\n",
    "tracks_names = []\n",
    "artists_pair_names = []\n",
    "artists_pair_ids = []\n",
    "albums_ids = []"
   ]
  },
  {
   "cell_type": "code",
   "execution_count": 13,
   "id": "6c4986c5-6ef5-47ac-b567-0fe68831d63b",
   "metadata": {},
   "outputs": [],
   "source": [
    "albums_ids_observed = []\n",
    "artists_left = artists_ids"
   ]
  },
  {
   "cell_type": "code",
   "execution_count": 18,
   "id": "d1658841-7e3e-4c9b-8118-bd53644d9d01",
   "metadata": {
    "scrolled": true
   },
   "outputs": [
    {
     "name": "stdout",
     "output_type": "stream",
     "text": [
      "5489\n",
      "error 429\n",
      "error 429\n",
      "error 429\n",
      "error 429\n",
      "error 429\n",
      "error 429\n",
      "error 429\n",
      "error 429\n",
      "error 429\n",
      "error 429\n",
      "error 429\n",
      "error 429\n",
      "error 429\n",
      "error 429\n",
      "error 429\n",
      "error 429\n",
      "error 429\n",
      "error 429\n",
      "error 429\n",
      "error 429\n",
      "error 429\n",
      "error 429\n",
      "error 429\n",
      "error 429\n",
      "error 429\n",
      "error 429\n",
      "error 429\n",
      "error 429\n",
      "error 429\n",
      "error 429\n",
      "error 429\n",
      "error 429\n",
      "error 429\n",
      "error 429\n",
      "error 429\n",
      "error 429\n",
      "error 429\n",
      "error 429\n",
      "error 429\n",
      "error 429\n",
      "error 429\n",
      "error 429\n",
      "error 429\n",
      "error 429\n",
      "error 429\n",
      "error 429\n",
      "error 429\n",
      "error 429\n",
      "error 429\n",
      "error 429\n",
      "error 429\n",
      "error 429\n",
      "error 429\n",
      "error 429\n",
      "error 429\n",
      "error 429\n",
      "error 429\n",
      "error 429\n",
      "error 429\n",
      "error 429\n",
      "error 429\n",
      "error 429\n",
      "error 429\n",
      "error 429\n",
      "error 429\n",
      "error 429\n",
      "error 429\n",
      "error 429\n",
      "error 429\n",
      "error 429\n",
      "error 429\n",
      "error 429\n",
      "error 429\n",
      "error 429\n",
      "error 429\n",
      "error 429\n",
      "error 429\n",
      "error 429\n",
      "error 429\n",
      "error 429\n",
      "error 429\n",
      "error 429\n",
      "error 429\n",
      "error 429\n",
      "error 429\n",
      "error 429\n",
      "error 429\n",
      "error 429\n"
     ]
    },
    {
     "ename": "KeyboardInterrupt",
     "evalue": "",
     "output_type": "error",
     "traceback": [
      "\u001b[1;31m---------------------------------------------------------------------------\u001b[0m",
      "\u001b[1;31mKeyboardInterrupt\u001b[0m                         Traceback (most recent call last)",
      "Cell \u001b[1;32mIn[18], line 22\u001b[0m\n\u001b[0;32m     20\u001b[0m     \u001b[38;5;28;01mcontinue\u001b[39;00m\n\u001b[0;32m     21\u001b[0m \u001b[38;5;28;01mwhile\u001b[39;00m \u001b[38;5;28;01mTrue\u001b[39;00m:\n\u001b[1;32m---> 22\u001b[0m     tracksAlbumsRequest \u001b[38;5;241m=\u001b[39m \u001b[43mrequests\u001b[49m\u001b[38;5;241;43m.\u001b[39;49m\u001b[43mget\u001b[49m\u001b[43m(\u001b[49m\u001b[38;5;124;43mr\u001b[39;49m\u001b[38;5;124;43m\"\u001b[39;49m\u001b[38;5;124;43mhttps://api.spotify.com/v1/albums/\u001b[39;49m\u001b[38;5;132;43;01m{}\u001b[39;49;00m\u001b[38;5;124;43m/tracks\u001b[39;49m\u001b[38;5;124;43m\"\u001b[39;49m\u001b[38;5;241;43m.\u001b[39;49m\u001b[43mformat\u001b[49m\u001b[43m(\u001b[49m\u001b[43melem1\u001b[49m\u001b[43m)\u001b[49m\u001b[43m,\u001b[49m\u001b[43m \u001b[49m\u001b[43mheaders\u001b[49m\u001b[38;5;241;43m=\u001b[39;49m\u001b[43mheader\u001b[49m\u001b[43m)\u001b[49m\n\u001b[0;32m     23\u001b[0m     \u001b[38;5;28;01mif\u001b[39;00m tracksAlbumsRequest\u001b[38;5;241m.\u001b[39mstatus_code \u001b[38;5;241m!=\u001b[39m \u001b[38;5;241m200\u001b[39m:\n\u001b[0;32m     24\u001b[0m         \u001b[38;5;28mprint\u001b[39m(\u001b[38;5;124m\"\u001b[39m\u001b[38;5;124merror\u001b[39m\u001b[38;5;124m\"\u001b[39m, tracksAlbumsRequest\u001b[38;5;241m.\u001b[39mstatus_code)\n",
      "File \u001b[1;32md:\\AI\\envs\\aiclasses\\lib\\site-packages\\requests\\api.py:73\u001b[0m, in \u001b[0;36mget\u001b[1;34m(url, params, **kwargs)\u001b[0m\n\u001b[0;32m     62\u001b[0m \u001b[38;5;28;01mdef\u001b[39;00m \u001b[38;5;21mget\u001b[39m(url, params\u001b[38;5;241m=\u001b[39m\u001b[38;5;28;01mNone\u001b[39;00m, \u001b[38;5;241m*\u001b[39m\u001b[38;5;241m*\u001b[39mkwargs):\n\u001b[0;32m     63\u001b[0m \u001b[38;5;250m    \u001b[39m\u001b[38;5;124mr\u001b[39m\u001b[38;5;124;03m\"\"\"Sends a GET request.\u001b[39;00m\n\u001b[0;32m     64\u001b[0m \n\u001b[0;32m     65\u001b[0m \u001b[38;5;124;03m    :param url: URL for the new :class:`Request` object.\u001b[39;00m\n\u001b[1;32m   (...)\u001b[0m\n\u001b[0;32m     70\u001b[0m \u001b[38;5;124;03m    :rtype: requests.Response\u001b[39;00m\n\u001b[0;32m     71\u001b[0m \u001b[38;5;124;03m    \"\"\"\u001b[39;00m\n\u001b[1;32m---> 73\u001b[0m     \u001b[38;5;28;01mreturn\u001b[39;00m \u001b[43mrequest\u001b[49m\u001b[43m(\u001b[49m\u001b[38;5;124;43m\"\u001b[39;49m\u001b[38;5;124;43mget\u001b[39;49m\u001b[38;5;124;43m\"\u001b[39;49m\u001b[43m,\u001b[49m\u001b[43m \u001b[49m\u001b[43murl\u001b[49m\u001b[43m,\u001b[49m\u001b[43m \u001b[49m\u001b[43mparams\u001b[49m\u001b[38;5;241;43m=\u001b[39;49m\u001b[43mparams\u001b[49m\u001b[43m,\u001b[49m\u001b[43m \u001b[49m\u001b[38;5;241;43m*\u001b[39;49m\u001b[38;5;241;43m*\u001b[39;49m\u001b[43mkwargs\u001b[49m\u001b[43m)\u001b[49m\n",
      "File \u001b[1;32md:\\AI\\envs\\aiclasses\\lib\\site-packages\\requests\\api.py:59\u001b[0m, in \u001b[0;36mrequest\u001b[1;34m(method, url, **kwargs)\u001b[0m\n\u001b[0;32m     55\u001b[0m \u001b[38;5;66;03m# By using the 'with' statement we are sure the session is closed, thus we\u001b[39;00m\n\u001b[0;32m     56\u001b[0m \u001b[38;5;66;03m# avoid leaving sockets open which can trigger a ResourceWarning in some\u001b[39;00m\n\u001b[0;32m     57\u001b[0m \u001b[38;5;66;03m# cases, and look like a memory leak in others.\u001b[39;00m\n\u001b[0;32m     58\u001b[0m \u001b[38;5;28;01mwith\u001b[39;00m sessions\u001b[38;5;241m.\u001b[39mSession() \u001b[38;5;28;01mas\u001b[39;00m session:\n\u001b[1;32m---> 59\u001b[0m     \u001b[38;5;28;01mreturn\u001b[39;00m \u001b[43msession\u001b[49m\u001b[38;5;241;43m.\u001b[39;49m\u001b[43mrequest\u001b[49m\u001b[43m(\u001b[49m\u001b[43mmethod\u001b[49m\u001b[38;5;241;43m=\u001b[39;49m\u001b[43mmethod\u001b[49m\u001b[43m,\u001b[49m\u001b[43m \u001b[49m\u001b[43murl\u001b[49m\u001b[38;5;241;43m=\u001b[39;49m\u001b[43murl\u001b[49m\u001b[43m,\u001b[49m\u001b[43m \u001b[49m\u001b[38;5;241;43m*\u001b[39;49m\u001b[38;5;241;43m*\u001b[39;49m\u001b[43mkwargs\u001b[49m\u001b[43m)\u001b[49m\n",
      "File \u001b[1;32md:\\AI\\envs\\aiclasses\\lib\\site-packages\\requests\\sessions.py:589\u001b[0m, in \u001b[0;36mSession.request\u001b[1;34m(self, method, url, params, data, headers, cookies, files, auth, timeout, allow_redirects, proxies, hooks, stream, verify, cert, json)\u001b[0m\n\u001b[0;32m    584\u001b[0m send_kwargs \u001b[38;5;241m=\u001b[39m {\n\u001b[0;32m    585\u001b[0m     \u001b[38;5;124m\"\u001b[39m\u001b[38;5;124mtimeout\u001b[39m\u001b[38;5;124m\"\u001b[39m: timeout,\n\u001b[0;32m    586\u001b[0m     \u001b[38;5;124m\"\u001b[39m\u001b[38;5;124mallow_redirects\u001b[39m\u001b[38;5;124m\"\u001b[39m: allow_redirects,\n\u001b[0;32m    587\u001b[0m }\n\u001b[0;32m    588\u001b[0m send_kwargs\u001b[38;5;241m.\u001b[39mupdate(settings)\n\u001b[1;32m--> 589\u001b[0m resp \u001b[38;5;241m=\u001b[39m \u001b[38;5;28;43mself\u001b[39;49m\u001b[38;5;241;43m.\u001b[39;49m\u001b[43msend\u001b[49m\u001b[43m(\u001b[49m\u001b[43mprep\u001b[49m\u001b[43m,\u001b[49m\u001b[43m \u001b[49m\u001b[38;5;241;43m*\u001b[39;49m\u001b[38;5;241;43m*\u001b[39;49m\u001b[43msend_kwargs\u001b[49m\u001b[43m)\u001b[49m\n\u001b[0;32m    591\u001b[0m \u001b[38;5;28;01mreturn\u001b[39;00m resp\n",
      "File \u001b[1;32md:\\AI\\envs\\aiclasses\\lib\\site-packages\\requests\\sessions.py:703\u001b[0m, in \u001b[0;36mSession.send\u001b[1;34m(self, request, **kwargs)\u001b[0m\n\u001b[0;32m    700\u001b[0m start \u001b[38;5;241m=\u001b[39m preferred_clock()\n\u001b[0;32m    702\u001b[0m \u001b[38;5;66;03m# Send the request\u001b[39;00m\n\u001b[1;32m--> 703\u001b[0m r \u001b[38;5;241m=\u001b[39m \u001b[43madapter\u001b[49m\u001b[38;5;241;43m.\u001b[39;49m\u001b[43msend\u001b[49m\u001b[43m(\u001b[49m\u001b[43mrequest\u001b[49m\u001b[43m,\u001b[49m\u001b[43m \u001b[49m\u001b[38;5;241;43m*\u001b[39;49m\u001b[38;5;241;43m*\u001b[39;49m\u001b[43mkwargs\u001b[49m\u001b[43m)\u001b[49m\n\u001b[0;32m    705\u001b[0m \u001b[38;5;66;03m# Total elapsed time of the request (approximately)\u001b[39;00m\n\u001b[0;32m    706\u001b[0m elapsed \u001b[38;5;241m=\u001b[39m preferred_clock() \u001b[38;5;241m-\u001b[39m start\n",
      "File \u001b[1;32md:\\AI\\envs\\aiclasses\\lib\\site-packages\\requests\\adapters.py:486\u001b[0m, in \u001b[0;36mHTTPAdapter.send\u001b[1;34m(self, request, stream, timeout, verify, cert, proxies)\u001b[0m\n\u001b[0;32m    483\u001b[0m     timeout \u001b[38;5;241m=\u001b[39m TimeoutSauce(connect\u001b[38;5;241m=\u001b[39mtimeout, read\u001b[38;5;241m=\u001b[39mtimeout)\n\u001b[0;32m    485\u001b[0m \u001b[38;5;28;01mtry\u001b[39;00m:\n\u001b[1;32m--> 486\u001b[0m     resp \u001b[38;5;241m=\u001b[39m \u001b[43mconn\u001b[49m\u001b[38;5;241;43m.\u001b[39;49m\u001b[43murlopen\u001b[49m\u001b[43m(\u001b[49m\n\u001b[0;32m    487\u001b[0m \u001b[43m        \u001b[49m\u001b[43mmethod\u001b[49m\u001b[38;5;241;43m=\u001b[39;49m\u001b[43mrequest\u001b[49m\u001b[38;5;241;43m.\u001b[39;49m\u001b[43mmethod\u001b[49m\u001b[43m,\u001b[49m\n\u001b[0;32m    488\u001b[0m \u001b[43m        \u001b[49m\u001b[43murl\u001b[49m\u001b[38;5;241;43m=\u001b[39;49m\u001b[43murl\u001b[49m\u001b[43m,\u001b[49m\n\u001b[0;32m    489\u001b[0m \u001b[43m        \u001b[49m\u001b[43mbody\u001b[49m\u001b[38;5;241;43m=\u001b[39;49m\u001b[43mrequest\u001b[49m\u001b[38;5;241;43m.\u001b[39;49m\u001b[43mbody\u001b[49m\u001b[43m,\u001b[49m\n\u001b[0;32m    490\u001b[0m \u001b[43m        \u001b[49m\u001b[43mheaders\u001b[49m\u001b[38;5;241;43m=\u001b[39;49m\u001b[43mrequest\u001b[49m\u001b[38;5;241;43m.\u001b[39;49m\u001b[43mheaders\u001b[49m\u001b[43m,\u001b[49m\n\u001b[0;32m    491\u001b[0m \u001b[43m        \u001b[49m\u001b[43mredirect\u001b[49m\u001b[38;5;241;43m=\u001b[39;49m\u001b[38;5;28;43;01mFalse\u001b[39;49;00m\u001b[43m,\u001b[49m\n\u001b[0;32m    492\u001b[0m \u001b[43m        \u001b[49m\u001b[43massert_same_host\u001b[49m\u001b[38;5;241;43m=\u001b[39;49m\u001b[38;5;28;43;01mFalse\u001b[39;49;00m\u001b[43m,\u001b[49m\n\u001b[0;32m    493\u001b[0m \u001b[43m        \u001b[49m\u001b[43mpreload_content\u001b[49m\u001b[38;5;241;43m=\u001b[39;49m\u001b[38;5;28;43;01mFalse\u001b[39;49;00m\u001b[43m,\u001b[49m\n\u001b[0;32m    494\u001b[0m \u001b[43m        \u001b[49m\u001b[43mdecode_content\u001b[49m\u001b[38;5;241;43m=\u001b[39;49m\u001b[38;5;28;43;01mFalse\u001b[39;49;00m\u001b[43m,\u001b[49m\n\u001b[0;32m    495\u001b[0m \u001b[43m        \u001b[49m\u001b[43mretries\u001b[49m\u001b[38;5;241;43m=\u001b[39;49m\u001b[38;5;28;43mself\u001b[39;49m\u001b[38;5;241;43m.\u001b[39;49m\u001b[43mmax_retries\u001b[49m\u001b[43m,\u001b[49m\n\u001b[0;32m    496\u001b[0m \u001b[43m        \u001b[49m\u001b[43mtimeout\u001b[49m\u001b[38;5;241;43m=\u001b[39;49m\u001b[43mtimeout\u001b[49m\u001b[43m,\u001b[49m\n\u001b[0;32m    497\u001b[0m \u001b[43m        \u001b[49m\u001b[43mchunked\u001b[49m\u001b[38;5;241;43m=\u001b[39;49m\u001b[43mchunked\u001b[49m\u001b[43m,\u001b[49m\n\u001b[0;32m    498\u001b[0m \u001b[43m    \u001b[49m\u001b[43m)\u001b[49m\n\u001b[0;32m    500\u001b[0m \u001b[38;5;28;01mexcept\u001b[39;00m (ProtocolError, \u001b[38;5;167;01mOSError\u001b[39;00m) \u001b[38;5;28;01mas\u001b[39;00m err:\n\u001b[0;32m    501\u001b[0m     \u001b[38;5;28;01mraise\u001b[39;00m \u001b[38;5;167;01mConnectionError\u001b[39;00m(err, request\u001b[38;5;241m=\u001b[39mrequest)\n",
      "File \u001b[1;32md:\\AI\\envs\\aiclasses\\lib\\site-packages\\urllib3\\connectionpool.py:714\u001b[0m, in \u001b[0;36mHTTPConnectionPool.urlopen\u001b[1;34m(self, method, url, body, headers, retries, redirect, assert_same_host, timeout, pool_timeout, release_conn, chunked, body_pos, **response_kw)\u001b[0m\n\u001b[0;32m    711\u001b[0m     \u001b[38;5;28mself\u001b[39m\u001b[38;5;241m.\u001b[39m_prepare_proxy(conn)\n\u001b[0;32m    713\u001b[0m \u001b[38;5;66;03m# Make the request on the httplib connection object.\u001b[39;00m\n\u001b[1;32m--> 714\u001b[0m httplib_response \u001b[38;5;241m=\u001b[39m \u001b[38;5;28;43mself\u001b[39;49m\u001b[38;5;241;43m.\u001b[39;49m\u001b[43m_make_request\u001b[49m\u001b[43m(\u001b[49m\n\u001b[0;32m    715\u001b[0m \u001b[43m    \u001b[49m\u001b[43mconn\u001b[49m\u001b[43m,\u001b[49m\n\u001b[0;32m    716\u001b[0m \u001b[43m    \u001b[49m\u001b[43mmethod\u001b[49m\u001b[43m,\u001b[49m\n\u001b[0;32m    717\u001b[0m \u001b[43m    \u001b[49m\u001b[43murl\u001b[49m\u001b[43m,\u001b[49m\n\u001b[0;32m    718\u001b[0m \u001b[43m    \u001b[49m\u001b[43mtimeout\u001b[49m\u001b[38;5;241;43m=\u001b[39;49m\u001b[43mtimeout_obj\u001b[49m\u001b[43m,\u001b[49m\n\u001b[0;32m    719\u001b[0m \u001b[43m    \u001b[49m\u001b[43mbody\u001b[49m\u001b[38;5;241;43m=\u001b[39;49m\u001b[43mbody\u001b[49m\u001b[43m,\u001b[49m\n\u001b[0;32m    720\u001b[0m \u001b[43m    \u001b[49m\u001b[43mheaders\u001b[49m\u001b[38;5;241;43m=\u001b[39;49m\u001b[43mheaders\u001b[49m\u001b[43m,\u001b[49m\n\u001b[0;32m    721\u001b[0m \u001b[43m    \u001b[49m\u001b[43mchunked\u001b[49m\u001b[38;5;241;43m=\u001b[39;49m\u001b[43mchunked\u001b[49m\u001b[43m,\u001b[49m\n\u001b[0;32m    722\u001b[0m \u001b[43m\u001b[49m\u001b[43m)\u001b[49m\n\u001b[0;32m    724\u001b[0m \u001b[38;5;66;03m# If we're going to release the connection in ``finally:``, then\u001b[39;00m\n\u001b[0;32m    725\u001b[0m \u001b[38;5;66;03m# the response doesn't need to know about the connection. Otherwise\u001b[39;00m\n\u001b[0;32m    726\u001b[0m \u001b[38;5;66;03m# it will also try to release it and we'll have a double-release\u001b[39;00m\n\u001b[0;32m    727\u001b[0m \u001b[38;5;66;03m# mess.\u001b[39;00m\n\u001b[0;32m    728\u001b[0m response_conn \u001b[38;5;241m=\u001b[39m conn \u001b[38;5;28;01mif\u001b[39;00m \u001b[38;5;129;01mnot\u001b[39;00m release_conn \u001b[38;5;28;01melse\u001b[39;00m \u001b[38;5;28;01mNone\u001b[39;00m\n",
      "File \u001b[1;32md:\\AI\\envs\\aiclasses\\lib\\site-packages\\urllib3\\connectionpool.py:403\u001b[0m, in \u001b[0;36mHTTPConnectionPool._make_request\u001b[1;34m(self, conn, method, url, timeout, chunked, **httplib_request_kw)\u001b[0m\n\u001b[0;32m    401\u001b[0m \u001b[38;5;66;03m# Trigger any extra validation we need to do.\u001b[39;00m\n\u001b[0;32m    402\u001b[0m \u001b[38;5;28;01mtry\u001b[39;00m:\n\u001b[1;32m--> 403\u001b[0m     \u001b[38;5;28;43mself\u001b[39;49m\u001b[38;5;241;43m.\u001b[39;49m\u001b[43m_validate_conn\u001b[49m\u001b[43m(\u001b[49m\u001b[43mconn\u001b[49m\u001b[43m)\u001b[49m\n\u001b[0;32m    404\u001b[0m \u001b[38;5;28;01mexcept\u001b[39;00m (SocketTimeout, BaseSSLError) \u001b[38;5;28;01mas\u001b[39;00m e:\n\u001b[0;32m    405\u001b[0m     \u001b[38;5;66;03m# Py2 raises this as a BaseSSLError, Py3 raises it as socket timeout.\u001b[39;00m\n\u001b[0;32m    406\u001b[0m     \u001b[38;5;28mself\u001b[39m\u001b[38;5;241m.\u001b[39m_raise_timeout(err\u001b[38;5;241m=\u001b[39me, url\u001b[38;5;241m=\u001b[39murl, timeout_value\u001b[38;5;241m=\u001b[39mconn\u001b[38;5;241m.\u001b[39mtimeout)\n",
      "File \u001b[1;32md:\\AI\\envs\\aiclasses\\lib\\site-packages\\urllib3\\connectionpool.py:1053\u001b[0m, in \u001b[0;36mHTTPSConnectionPool._validate_conn\u001b[1;34m(self, conn)\u001b[0m\n\u001b[0;32m   1051\u001b[0m \u001b[38;5;66;03m# Force connect early to allow us to validate the connection.\u001b[39;00m\n\u001b[0;32m   1052\u001b[0m \u001b[38;5;28;01mif\u001b[39;00m \u001b[38;5;129;01mnot\u001b[39;00m \u001b[38;5;28mgetattr\u001b[39m(conn, \u001b[38;5;124m\"\u001b[39m\u001b[38;5;124msock\u001b[39m\u001b[38;5;124m\"\u001b[39m, \u001b[38;5;28;01mNone\u001b[39;00m):  \u001b[38;5;66;03m# AppEngine might not have  `.sock`\u001b[39;00m\n\u001b[1;32m-> 1053\u001b[0m     \u001b[43mconn\u001b[49m\u001b[38;5;241;43m.\u001b[39;49m\u001b[43mconnect\u001b[49m\u001b[43m(\u001b[49m\u001b[43m)\u001b[49m\n\u001b[0;32m   1055\u001b[0m \u001b[38;5;28;01mif\u001b[39;00m \u001b[38;5;129;01mnot\u001b[39;00m conn\u001b[38;5;241m.\u001b[39mis_verified:\n\u001b[0;32m   1056\u001b[0m     warnings\u001b[38;5;241m.\u001b[39mwarn(\n\u001b[0;32m   1057\u001b[0m         (\n\u001b[0;32m   1058\u001b[0m             \u001b[38;5;124m\"\u001b[39m\u001b[38;5;124mUnverified HTTPS request is being made to host \u001b[39m\u001b[38;5;124m'\u001b[39m\u001b[38;5;132;01m%s\u001b[39;00m\u001b[38;5;124m'\u001b[39m\u001b[38;5;124m. \u001b[39m\u001b[38;5;124m\"\u001b[39m\n\u001b[1;32m   (...)\u001b[0m\n\u001b[0;32m   1063\u001b[0m         InsecureRequestWarning,\n\u001b[0;32m   1064\u001b[0m     )\n",
      "File \u001b[1;32md:\\AI\\envs\\aiclasses\\lib\\site-packages\\urllib3\\connection.py:419\u001b[0m, in \u001b[0;36mHTTPSConnection.connect\u001b[1;34m(self)\u001b[0m\n\u001b[0;32m    410\u001b[0m \u001b[38;5;28;01mif\u001b[39;00m (\n\u001b[0;32m    411\u001b[0m     \u001b[38;5;129;01mnot\u001b[39;00m \u001b[38;5;28mself\u001b[39m\u001b[38;5;241m.\u001b[39mca_certs\n\u001b[0;32m    412\u001b[0m     \u001b[38;5;129;01mand\u001b[39;00m \u001b[38;5;129;01mnot\u001b[39;00m \u001b[38;5;28mself\u001b[39m\u001b[38;5;241m.\u001b[39mca_cert_dir\n\u001b[1;32m   (...)\u001b[0m\n\u001b[0;32m    415\u001b[0m     \u001b[38;5;129;01mand\u001b[39;00m \u001b[38;5;28mhasattr\u001b[39m(context, \u001b[38;5;124m\"\u001b[39m\u001b[38;5;124mload_default_certs\u001b[39m\u001b[38;5;124m\"\u001b[39m)\n\u001b[0;32m    416\u001b[0m ):\n\u001b[0;32m    417\u001b[0m     context\u001b[38;5;241m.\u001b[39mload_default_certs()\n\u001b[1;32m--> 419\u001b[0m \u001b[38;5;28mself\u001b[39m\u001b[38;5;241m.\u001b[39msock \u001b[38;5;241m=\u001b[39m \u001b[43mssl_wrap_socket\u001b[49m\u001b[43m(\u001b[49m\n\u001b[0;32m    420\u001b[0m \u001b[43m    \u001b[49m\u001b[43msock\u001b[49m\u001b[38;5;241;43m=\u001b[39;49m\u001b[43mconn\u001b[49m\u001b[43m,\u001b[49m\n\u001b[0;32m    421\u001b[0m \u001b[43m    \u001b[49m\u001b[43mkeyfile\u001b[49m\u001b[38;5;241;43m=\u001b[39;49m\u001b[38;5;28;43mself\u001b[39;49m\u001b[38;5;241;43m.\u001b[39;49m\u001b[43mkey_file\u001b[49m\u001b[43m,\u001b[49m\n\u001b[0;32m    422\u001b[0m \u001b[43m    \u001b[49m\u001b[43mcertfile\u001b[49m\u001b[38;5;241;43m=\u001b[39;49m\u001b[38;5;28;43mself\u001b[39;49m\u001b[38;5;241;43m.\u001b[39;49m\u001b[43mcert_file\u001b[49m\u001b[43m,\u001b[49m\n\u001b[0;32m    423\u001b[0m \u001b[43m    \u001b[49m\u001b[43mkey_password\u001b[49m\u001b[38;5;241;43m=\u001b[39;49m\u001b[38;5;28;43mself\u001b[39;49m\u001b[38;5;241;43m.\u001b[39;49m\u001b[43mkey_password\u001b[49m\u001b[43m,\u001b[49m\n\u001b[0;32m    424\u001b[0m \u001b[43m    \u001b[49m\u001b[43mca_certs\u001b[49m\u001b[38;5;241;43m=\u001b[39;49m\u001b[38;5;28;43mself\u001b[39;49m\u001b[38;5;241;43m.\u001b[39;49m\u001b[43mca_certs\u001b[49m\u001b[43m,\u001b[49m\n\u001b[0;32m    425\u001b[0m \u001b[43m    \u001b[49m\u001b[43mca_cert_dir\u001b[49m\u001b[38;5;241;43m=\u001b[39;49m\u001b[38;5;28;43mself\u001b[39;49m\u001b[38;5;241;43m.\u001b[39;49m\u001b[43mca_cert_dir\u001b[49m\u001b[43m,\u001b[49m\n\u001b[0;32m    426\u001b[0m \u001b[43m    \u001b[49m\u001b[43mca_cert_data\u001b[49m\u001b[38;5;241;43m=\u001b[39;49m\u001b[38;5;28;43mself\u001b[39;49m\u001b[38;5;241;43m.\u001b[39;49m\u001b[43mca_cert_data\u001b[49m\u001b[43m,\u001b[49m\n\u001b[0;32m    427\u001b[0m \u001b[43m    \u001b[49m\u001b[43mserver_hostname\u001b[49m\u001b[38;5;241;43m=\u001b[39;49m\u001b[43mserver_hostname\u001b[49m\u001b[43m,\u001b[49m\n\u001b[0;32m    428\u001b[0m \u001b[43m    \u001b[49m\u001b[43mssl_context\u001b[49m\u001b[38;5;241;43m=\u001b[39;49m\u001b[43mcontext\u001b[49m\u001b[43m,\u001b[49m\n\u001b[0;32m    429\u001b[0m \u001b[43m    \u001b[49m\u001b[43mtls_in_tls\u001b[49m\u001b[38;5;241;43m=\u001b[39;49m\u001b[43mtls_in_tls\u001b[49m\u001b[43m,\u001b[49m\n\u001b[0;32m    430\u001b[0m \u001b[43m\u001b[49m\u001b[43m)\u001b[49m\n\u001b[0;32m    432\u001b[0m \u001b[38;5;66;03m# If we're using all defaults and the connection\u001b[39;00m\n\u001b[0;32m    433\u001b[0m \u001b[38;5;66;03m# is TLSv1 or TLSv1.1 we throw a DeprecationWarning\u001b[39;00m\n\u001b[0;32m    434\u001b[0m \u001b[38;5;66;03m# for the host.\u001b[39;00m\n\u001b[0;32m    435\u001b[0m \u001b[38;5;28;01mif\u001b[39;00m (\n\u001b[0;32m    436\u001b[0m     default_ssl_context\n\u001b[0;32m    437\u001b[0m     \u001b[38;5;129;01mand\u001b[39;00m \u001b[38;5;28mself\u001b[39m\u001b[38;5;241m.\u001b[39mssl_version \u001b[38;5;129;01mis\u001b[39;00m \u001b[38;5;28;01mNone\u001b[39;00m\n\u001b[0;32m    438\u001b[0m     \u001b[38;5;129;01mand\u001b[39;00m \u001b[38;5;28mhasattr\u001b[39m(\u001b[38;5;28mself\u001b[39m\u001b[38;5;241m.\u001b[39msock, \u001b[38;5;124m\"\u001b[39m\u001b[38;5;124mversion\u001b[39m\u001b[38;5;124m\"\u001b[39m)\n\u001b[0;32m    439\u001b[0m     \u001b[38;5;129;01mand\u001b[39;00m \u001b[38;5;28mself\u001b[39m\u001b[38;5;241m.\u001b[39msock\u001b[38;5;241m.\u001b[39mversion() \u001b[38;5;129;01min\u001b[39;00m {\u001b[38;5;124m\"\u001b[39m\u001b[38;5;124mTLSv1\u001b[39m\u001b[38;5;124m\"\u001b[39m, \u001b[38;5;124m\"\u001b[39m\u001b[38;5;124mTLSv1.1\u001b[39m\u001b[38;5;124m\"\u001b[39m}\n\u001b[0;32m    440\u001b[0m ):\n",
      "File \u001b[1;32md:\\AI\\envs\\aiclasses\\lib\\site-packages\\urllib3\\util\\ssl_.py:402\u001b[0m, in \u001b[0;36mssl_wrap_socket\u001b[1;34m(sock, keyfile, certfile, cert_reqs, ca_certs, server_hostname, ssl_version, ciphers, ssl_context, ca_cert_dir, key_password, ca_cert_data, tls_in_tls)\u001b[0m\n\u001b[0;32m    400\u001b[0m \u001b[38;5;28;01mif\u001b[39;00m ca_certs \u001b[38;5;129;01mor\u001b[39;00m ca_cert_dir \u001b[38;5;129;01mor\u001b[39;00m ca_cert_data:\n\u001b[0;32m    401\u001b[0m     \u001b[38;5;28;01mtry\u001b[39;00m:\n\u001b[1;32m--> 402\u001b[0m         \u001b[43mcontext\u001b[49m\u001b[38;5;241;43m.\u001b[39;49m\u001b[43mload_verify_locations\u001b[49m\u001b[43m(\u001b[49m\u001b[43mca_certs\u001b[49m\u001b[43m,\u001b[49m\u001b[43m \u001b[49m\u001b[43mca_cert_dir\u001b[49m\u001b[43m,\u001b[49m\u001b[43m \u001b[49m\u001b[43mca_cert_data\u001b[49m\u001b[43m)\u001b[49m\n\u001b[0;32m    403\u001b[0m     \u001b[38;5;28;01mexcept\u001b[39;00m (\u001b[38;5;167;01mIOError\u001b[39;00m, \u001b[38;5;167;01mOSError\u001b[39;00m) \u001b[38;5;28;01mas\u001b[39;00m e:\n\u001b[0;32m    404\u001b[0m         \u001b[38;5;28;01mraise\u001b[39;00m SSLError(e)\n",
      "\u001b[1;31mKeyboardInterrupt\u001b[0m: "
     ]
    }
   ],
   "source": [
    "def compare_two_pairs(pair1, pair2):\n",
    "    \"\"\"\n",
    "        Check if there are any pairs formed by the same artist repeated twice.\n",
    "    \"\"\"\n",
    "    return (pair1[0] == pair2[0] and pair1[1] == pair2[1]) or (pair1[0] == pair2[1] and pair1[0] == pair2[1])\n",
    "\n",
    "def pair_in_list(pair, list):\n",
    "    \"\"\"\n",
    "        Check if a pair belongs to a list.\n",
    "    \"\"\"\n",
    "    for el in list:\n",
    "        if compare_two_pairs(pair, el):\n",
    "            return True\n",
    "\n",
    "    return False \n",
    "\n",
    "while len(artists_left) != 0 or len(artists_ids) > 15000:\n",
    "    print(len(artists_ids))\n",
    "    if len(albums_ids) == 0:\n",
    "        albums_ids = extract_albums_from_artists(artists_left)\n",
    "        artists_left = []\n",
    "    for elem1 in albums_ids:\n",
    "        if elem1 not in albums_ids_observed:\n",
    "            albums_ids_observed.append(elem1)\n",
    "        else:\n",
    "            continue\n",
    "        while True:\n",
    "            tracksAlbumsRequest = requests.get(r\"https://api.spotify.com/v1/albums/{}/tracks\".format(elem1), headers=header)\n",
    "            if tracksAlbumsRequest.status_code != 200:\n",
    "                print(\"error\", tracksAlbumsRequest.status_code)\n",
    "                continue\n",
    "            break\n",
    "        # print(tracksAlbumsRequest)\n",
    "        for elem2 in json.loads(tracksAlbumsRequest.text)[\"items\"]:\n",
    "            n = len(elem2['artists'])\n",
    "            if n > 1:\n",
    "                for i in range(0, n-1):\n",
    "                    artist_id1 = elem2['artists'][i]['id']\n",
    "                    artist_name1 = elem2['artists'][i]['name']\n",
    "                    if artist_id1 not in artists_ids:\n",
    "                        artists_ids.append(artist_id1)\n",
    "                        artists_left.append(artist_id1)\n",
    "                    for j in range(1, n):\n",
    "                        artist_id2 = elem2['artists'][j]['id']\n",
    "                        artist_name2 = elem2['artists'][j]['name']\n",
    "                        if not pair_in_list((artist_id1, artist_id2), artists_pair_ids):\n",
    "                            artists_pair_ids.append((artist_id1, artist_id2))\n",
    "                            artists_pair_names.append((artist_name1, artist_name2))\n",
    "                            tracks_ids.append(elem2['id'])\n",
    "                            tracks_names.append(elem2['name'])\n",
    "                last_artist_id = elem2['artists'][n - 1]['id']\n",
    "                if last_artist_id not in artists_ids:\n",
    "                    artists_ids.append(last_artist_id)\n",
    "                    artists_left.append(last_artist_id)\n",
    "    albums_ids = []"
   ]
  },
  {
   "cell_type": "code",
   "execution_count": 19,
   "id": "9de65b7e-d620-4537-8037-e28a519f0196",
   "metadata": {},
   "outputs": [
    {
     "name": "stdout",
     "output_type": "stream",
     "text": [
      "\n",
      "Number of albums observed: 8758 \n",
      "Number of albums unseen: 18183 \n",
      "Number of nodes unseen: 2000 \n",
      "Number of nodes: 14297 \n",
      "Number of edges: 14019 \n",
      "Number of unique nodes: 14297\n"
     ]
    }
   ],
   "source": [
    "from collections import Counter\n",
    "\n",
    "print(\"\\nNumber of albums observed:\", len(albums_ids_observed), \n",
    "      \"\\nNumber of albums unseen:\", len(albums_ids),  \n",
    "      \"\\nNumber of nodes unseen:\", len(artists_left),\n",
    "      \"\\nNumber of nodes:\", len(artists_ids), \n",
    "      \"\\nNumber of edges:\", len(artists_pair_ids),\n",
    "      \"\\nNumber of unique nodes:\", len(Counter(artists_ids).keys()))"
   ]
  },
  {
   "cell_type": "markdown",
   "id": "bf0863dd",
   "metadata": {},
   "source": [
    "We observed that the artist of the album can appear in the artists list as well. We will eliminate them using a for loop."
   ]
  },
  {
   "cell_type": "code",
   "execution_count": 33,
   "id": "81dc879d",
   "metadata": {},
   "outputs": [
    {
     "data": {
      "text/plain": [
       "(12178, 12178)"
      ]
     },
     "execution_count": 33,
     "metadata": {},
     "output_type": "execute_result"
    }
   ],
   "source": [
    "idx_to_be_removed = [i for i, el in enumerate(artists_pair_ids) if el[0] == el[1]]\n",
    "\n",
    "artists_pair_ids_re = [el for i, el in enumerate(artists_pair_ids) if i not in idx_to_be_removed]\n",
    "artists_pair_names_re = [el for i, el in enumerate(artists_pair_names) if i not in idx_to_be_removed]\n",
    "tracks_ids_re = [el for i, el in enumerate(tracks_ids) if i not in idx_to_be_removed]\n",
    "tracks_names_re = [el for i, el in enumerate(tracks_names) if i not in idx_to_be_removed]\n",
    "\n",
    "len(artists_pair_ids_re), len(artists_pair_names_re)"
   ]
  },
  {
   "cell_type": "markdown",
   "id": "9744f6c7",
   "metadata": {},
   "source": [
    "## Saving the data in CSV format"
   ]
  },
  {
   "cell_type": "markdown",
   "id": "7df46015",
   "metadata": {},
   "source": [
    "We will now begin to create the pieces of the CSV files: the nodes (the IDs of the artists) and the edges (the names of the songs, having as endpoints the pairs made out of the IDs of the artists that collaborated on the song, the names of the artists, the genres they appear most in and their popularity)."
   ]
  },
  {
   "cell_type": "code",
   "execution_count": 36,
   "id": "c57d408e-78dd-4edd-b7d5-f4cff5075b61",
   "metadata": {},
   "outputs": [],
   "source": [
    "temp_artists_id = []\n",
    "for elem in artists_pair_ids:\n",
    "    if elem[0] not in temp_artists_id:\n",
    "        temp_artists_id.append(elem[0])\n",
    "    if elem[1] not in temp_artists_id:\n",
    "        temp_artists_id.append(elem[1])\n"
   ]
  },
  {
   "cell_type": "code",
   "execution_count": 37,
   "id": "3bb39539-2e3c-4e5c-b9c4-8ac33d99a14a",
   "metadata": {},
   "outputs": [
    {
     "data": {
      "text/plain": [
       "(11488, 14295)"
      ]
     },
     "execution_count": 37,
     "metadata": {},
     "output_type": "execute_result"
    }
   ],
   "source": [
    "len(temp_artists_id), len(artists_ids)"
   ]
  },
  {
   "cell_type": "code",
   "execution_count": 80,
   "id": "90df392d",
   "metadata": {},
   "outputs": [],
   "source": [
    "genres = []\n",
    "popularity = []"
   ]
  },
  {
   "cell_type": "code",
   "execution_count": 81,
   "id": "b3e8dd62",
   "metadata": {},
   "outputs": [
    {
     "name": "stdout",
     "output_type": "stream",
     "text": [
      "1\n",
      "2\n",
      "3\n",
      "4\n",
      "5\n",
      "6\n",
      "7\n",
      "8\n",
      "9\n",
      "10\n",
      "11\n",
      "12\n",
      "13\n",
      "14\n",
      "15\n",
      "16\n",
      "17\n",
      "18\n",
      "19\n",
      "20\n",
      "21\n",
      "22\n",
      "23\n",
      "24\n",
      "25\n",
      "26\n",
      "27\n",
      "28\n",
      "29\n",
      "30\n",
      "31\n",
      "32\n",
      "33\n",
      "34\n",
      "35\n",
      "36\n",
      "37\n",
      "38\n",
      "39\n",
      "40\n",
      "41\n",
      "42\n",
      "43\n",
      "44\n",
      "45\n",
      "46\n",
      "47\n",
      "48\n",
      "49\n",
      "50\n",
      "51\n",
      "52\n",
      "53\n",
      "54\n",
      "55\n",
      "56\n",
      "57\n",
      "58\n",
      "59\n",
      "60\n",
      "61\n",
      "62\n",
      "63\n",
      "64\n",
      "65\n",
      "66\n",
      "67\n",
      "68\n",
      "69\n",
      "70\n",
      "71\n",
      "72\n",
      "73\n",
      "74\n",
      "75\n",
      "76\n",
      "77\n",
      "78\n",
      "79\n",
      "80\n",
      "81\n",
      "82\n",
      "83\n",
      "84\n",
      "85\n",
      "86\n",
      "87\n",
      "88\n",
      "89\n",
      "90\n",
      "91\n",
      "92\n",
      "93\n",
      "94\n",
      "95\n",
      "96\n",
      "97\n",
      "98\n",
      "99\n",
      "100\n",
      "101\n",
      "102\n",
      "103\n",
      "104\n",
      "105\n",
      "106\n",
      "107\n",
      "108\n",
      "109\n",
      "110\n",
      "111\n",
      "112\n",
      "113\n",
      "114\n",
      "115\n",
      "116\n",
      "117\n",
      "118\n",
      "119\n",
      "120\n",
      "121\n",
      "122\n",
      "123\n",
      "124\n",
      "125\n",
      "126\n",
      "127\n",
      "128\n",
      "129\n",
      "130\n",
      "131\n",
      "132\n",
      "133\n",
      "134\n",
      "135\n",
      "136\n",
      "137\n",
      "138\n",
      "139\n",
      "140\n",
      "141\n",
      "142\n",
      "143\n",
      "144\n",
      "145\n",
      "146\n",
      "147\n",
      "148\n",
      "149\n",
      "150\n",
      "151\n",
      "152\n",
      "153\n",
      "154\n",
      "155\n",
      "156\n",
      "157\n",
      "158\n",
      "159\n",
      "160\n",
      "161\n",
      "162\n",
      "163\n",
      "164\n",
      "165\n",
      "166\n",
      "167\n",
      "168\n",
      "169\n",
      "170\n",
      "171\n",
      "172\n",
      "173\n",
      "174\n",
      "175\n",
      "176\n",
      "177\n",
      "178\n",
      "179\n",
      "180\n",
      "181\n",
      "182\n",
      "183\n",
      "184\n",
      "185\n",
      "186\n",
      "187\n",
      "188\n",
      "189\n",
      "190\n",
      "191\n",
      "192\n",
      "193\n",
      "194\n",
      "195\n",
      "196\n",
      "197\n",
      "198\n",
      "199\n",
      "200\n",
      "201\n",
      "202\n",
      "203\n",
      "204\n",
      "205\n",
      "206\n",
      "207\n",
      "208\n",
      "209\n",
      "210\n",
      "211\n",
      "212\n",
      "213\n",
      "214\n",
      "215\n",
      "216\n",
      "217\n",
      "218\n",
      "219\n",
      "220\n",
      "221\n",
      "222\n",
      "223\n",
      "224\n",
      "225\n",
      "226\n",
      "227\n",
      "228\n",
      "229\n",
      "230\n"
     ]
    }
   ],
   "source": [
    "start = 0\n",
    "end = 50\n",
    "step = 50\n",
    "ct = 0\n",
    "for i in range(len(temp_artists_id) // step):\n",
    "    start = i * step\n",
    "    end = (i + 1) * step\n",
    "    ids = \",\".join(temp_artists_id[start:end])\n",
    "    features_request = requests.get(r\"https://api.spotify.com/v1/artists?ids={}\".format(ids), headers=header)\n",
    "    \n",
    "    text = json.loads(features_request.text)\n",
    "    # print(text)\n",
    "    for artist in text[\"artists\"]:\n",
    "        genres.append(artist['genres'])\n",
    "        popularity.append(artist['popularity'])\n",
    "    ct += 1\n",
    "    print(ct)\n",
    "\n",
    "if end < len(temp_artists_id):\n",
    "    start = end\n",
    "    end = len(temp_artists_id)\n",
    "    ids = \",\".join(temp_artists_id[start:end])\n",
    "    features_request = requests.get(r\"https://api.spotify.com/v1/artists?ids={}\".format(ids), headers=header)\n",
    "    \n",
    "    text = json.loads(features_request.text)\n",
    "    # print(text)\n",
    "    for artist in text[\"artists\"]:\n",
    "        genres.append(artist['genres'])\n",
    "        popularity.append(artist['popularity'])\n",
    "    ct += 1\n",
    "    print(ct)"
   ]
  },
  {
   "cell_type": "code",
   "execution_count": 82,
   "id": "331db308",
   "metadata": {},
   "outputs": [
    {
     "data": {
      "text/plain": [
       "(11488, 11488, 11488)"
      ]
     },
     "execution_count": 82,
     "metadata": {},
     "output_type": "execute_result"
    }
   ],
   "source": [
    "len(genres), len(popularity), len(temp_artists_id)"
   ]
  },
  {
   "cell_type": "code",
   "execution_count": 93,
   "id": "13f26a32",
   "metadata": {},
   "outputs": [],
   "source": [
    "genre_list = []\n",
    "default = \"various\"\n",
    "for elem in genres:\n",
    "    if len(elem) == 0:\n",
    "        genre_list.append(default)\n",
    "    else:\n",
    "        genre_list.append(elem[0])\n",
    "    \n",
    "\n"
   ]
  },
  {
   "cell_type": "code",
   "execution_count": 96,
   "id": "878e45a3-f780-4164-af6e-bdfb0b10f7db",
   "metadata": {},
   "outputs": [
    {
     "name": "stdout",
     "output_type": "stream",
     "text": [
      "(12178, 2) (12178, 1)\n"
     ]
    },
    {
     "data": {
      "text/plain": [
       "(12178, 6)"
      ]
     },
     "execution_count": 96,
     "metadata": {},
     "output_type": "execute_result"
    }
   ],
   "source": [
    "artists_ids_np = np.array(artists_pair_ids_re)\n",
    "artists_names_np = np.array(artists_pair_names_re)\n",
    "tracks_ids_np = np.array(tracks_ids_re)\n",
    "tracks_names_np = np.array(tracks_names_re)\n",
    "\n",
    "tracks_ids_npReshaped = tracks_ids_np.reshape(-1, 1)\n",
    "tracks_names_npReshaped = tracks_names_np.reshape(-1, 1)\n",
    "print(artists_ids_np.shape, tracks_ids_npReshaped.shape)\n",
    "a = np.concatenate([artists_ids_np, artists_names_np, tracks_ids_npReshaped, tracks_names_npReshaped], axis=1)\n",
    "a.shape"
   ]
  },
  {
   "cell_type": "code",
   "execution_count": 97,
   "id": "5e7d50fe-dbb8-406e-9351-016d0090c4f5",
   "metadata": {},
   "outputs": [],
   "source": [
    "data = pd.DataFrame(a, columns=[\"pair 1\", \"pair 2\", \"name 1\", \"name 2\", \"track id\", \"track name\"])\n",
    "data.to_csv('edges.csv', index=False)"
   ]
  },
  {
   "cell_type": "code",
   "execution_count": 110,
   "id": "8e32bf0f",
   "metadata": {},
   "outputs": [
    {
     "data": {
      "text/plain": [
       "(11488, 3)"
      ]
     },
     "execution_count": 110,
     "metadata": {},
     "output_type": "execute_result"
    }
   ],
   "source": [
    "genres_np = np.array(genre_list)\n",
    "popularity_np = np.array(popularity)\n",
    "genres_np = genres_np.reshape(-1, 1)\n",
    "popularity_np = popularity_np.reshape(-1, 1)\n",
    "artist_id_np = np.array(temp_artists_id).reshape(-1, 1)\n",
    "nodes = np.concatenate([artist_id_np, genres_np, popularity_np], axis=1)\n",
    "nodes.shape\n",
    "#genres_np.shape, popularity_np.shape, artist_id_np.shape"
   ]
  },
  {
   "cell_type": "code",
   "execution_count": 111,
   "id": "ecf07a6e",
   "metadata": {},
   "outputs": [],
   "source": [
    "dataNodes = pd.DataFrame(nodes, columns=[\"name\", \"genre\", \"popularity\"])\n",
    "dataNodes.to_csv('nodes.csv', index=False)"
   ]
  },
  {
   "cell_type": "code",
   "execution_count": 10,
   "id": "38ed889e",
   "metadata": {},
   "outputs": [],
   "source": [
    "import pandas as pd\n",
    "\n",
    "df1 = pd.read_csv(\"edges.csv\")\n",
    "df2 = pd.read_csv(\"nodes.csv\")\n"
   ]
  },
  {
   "cell_type": "code",
   "execution_count": 11,
   "id": "ba607748",
   "metadata": {},
   "outputs": [],
   "source": [
    "dict = {}\n",
    "\n",
    "for i in df1.index:\n",
    "    dict[df1['pair 1'][i]] = df1['name 1'][i]\n",
    "    dict[df1['pair 2'][i]] = df1['name 2'][i]"
   ]
  },
  {
   "cell_type": "code",
   "execution_count": 12,
   "id": "6b4e4fd8",
   "metadata": {},
   "outputs": [],
   "source": [
    "df2[\"name\"] = None"
   ]
  },
  {
   "cell_type": "code",
   "execution_count": 13,
   "id": "abee1a1b",
   "metadata": {},
   "outputs": [
    {
     "name": "stderr",
     "output_type": "stream",
     "text": [
      "C:\\Users\\Big Lion\\AppData\\Local\\Temp\\ipykernel_13340\\1139956709.py:3: SettingWithCopyWarning: \n",
      "A value is trying to be set on a copy of a slice from a DataFrame\n",
      "\n",
      "See the caveats in the documentation: https://pandas.pydata.org/pandas-docs/stable/user_guide/indexing.html#returning-a-view-versus-a-copy\n",
      "  df2[\"name\"][i] = dict[df2[\"ID\"][i]]\n"
     ]
    }
   ],
   "source": [
    "\n",
    "for i in df2.index:\n",
    "    if df2[\"ID\"][i] in dict:\n",
    "        df2[\"name\"][i] = dict[df2[\"ID\"][i]]\n",
    "    # df1[\"popularity 2\"][i] = dict[df1[\"pair 2\"][i]]"
   ]
  },
  {
   "cell_type": "code",
   "execution_count": 14,
   "id": "3932e4ed",
   "metadata": {},
   "outputs": [
    {
     "data": {
      "text/html": [
       "<div>\n",
       "<style scoped>\n",
       "    .dataframe tbody tr th:only-of-type {\n",
       "        vertical-align: middle;\n",
       "    }\n",
       "\n",
       "    .dataframe tbody tr th {\n",
       "        vertical-align: top;\n",
       "    }\n",
       "\n",
       "    .dataframe thead th {\n",
       "        text-align: right;\n",
       "    }\n",
       "</style>\n",
       "<table border=\"1\" class=\"dataframe\">\n",
       "  <thead>\n",
       "    <tr style=\"text-align: right;\">\n",
       "      <th></th>\n",
       "      <th>ID</th>\n",
       "      <th>genre</th>\n",
       "      <th>Label</th>\n",
       "      <th>name</th>\n",
       "    </tr>\n",
       "  </thead>\n",
       "  <tbody>\n",
       "    <tr>\n",
       "      <th>0</th>\n",
       "      <td>2U2L1YxD0FCUkCdDfEbHm1</td>\n",
       "      <td>various</td>\n",
       "      <td>39</td>\n",
       "      <td>Joakim Brodén</td>\n",
       "    </tr>\n",
       "    <tr>\n",
       "      <th>1</th>\n",
       "      <td>0BsnL3av7z4uKVOX4QqTee</td>\n",
       "      <td>various</td>\n",
       "      <td>24</td>\n",
       "      <td>Chris Rörland</td>\n",
       "    </tr>\n",
       "    <tr>\n",
       "      <th>2</th>\n",
       "      <td>3o2dn2O0FCVsWDFSh8qxgG</td>\n",
       "      <td>power metal</td>\n",
       "      <td>69</td>\n",
       "      <td>Sabaton</td>\n",
       "    </tr>\n",
       "    <tr>\n",
       "      <th>3</th>\n",
       "      <td>4eBxTYQt9UEuAibNT1eJ0N</td>\n",
       "      <td>various</td>\n",
       "      <td>20</td>\n",
       "      <td>Jillian Aversa</td>\n",
       "    </tr>\n",
       "    <tr>\n",
       "      <th>4</th>\n",
       "      <td>4eiYHJLlxeKQXAw0UDoXJl</td>\n",
       "      <td>fantasy</td>\n",
       "      <td>43</td>\n",
       "      <td>Erutan</td>\n",
       "    </tr>\n",
       "    <tr>\n",
       "      <th>...</th>\n",
       "      <td>...</td>\n",
       "      <td>...</td>\n",
       "      <td>...</td>\n",
       "      <td>...</td>\n",
       "    </tr>\n",
       "    <tr>\n",
       "      <th>11483</th>\n",
       "      <td>50iN4QFD9Z9S1KAzDLvAju</td>\n",
       "      <td>anime rap</td>\n",
       "      <td>52</td>\n",
       "      <td>Divide Music</td>\n",
       "    </tr>\n",
       "    <tr>\n",
       "      <th>11484</th>\n",
       "      <td>5y9l3QufypVWqKc7TtLNfb</td>\n",
       "      <td>various</td>\n",
       "      <td>32</td>\n",
       "      <td>Villainous</td>\n",
       "    </tr>\n",
       "    <tr>\n",
       "      <th>11485</th>\n",
       "      <td>1LjfjX3LTdfwdkewSZkV1Z</td>\n",
       "      <td>various</td>\n",
       "      <td>3</td>\n",
       "      <td>None</td>\n",
       "    </tr>\n",
       "    <tr>\n",
       "      <th>11486</th>\n",
       "      <td>5iSgWCXiIYvctWEmKEP44X</td>\n",
       "      <td>various</td>\n",
       "      <td>19</td>\n",
       "      <td>None</td>\n",
       "    </tr>\n",
       "    <tr>\n",
       "      <th>11487</th>\n",
       "      <td>64OkQdNXyU4hWlQj7DTznq</td>\n",
       "      <td>various</td>\n",
       "      <td>14</td>\n",
       "      <td>None</td>\n",
       "    </tr>\n",
       "  </tbody>\n",
       "</table>\n",
       "<p>11488 rows × 4 columns</p>\n",
       "</div>"
      ],
      "text/plain": [
       "                           ID        genre  Label            name\n",
       "0      2U2L1YxD0FCUkCdDfEbHm1      various     39   Joakim Brodén\n",
       "1      0BsnL3av7z4uKVOX4QqTee      various     24   Chris Rörland\n",
       "2      3o2dn2O0FCVsWDFSh8qxgG  power metal     69         Sabaton\n",
       "3      4eBxTYQt9UEuAibNT1eJ0N      various     20  Jillian Aversa\n",
       "4      4eiYHJLlxeKQXAw0UDoXJl      fantasy     43          Erutan\n",
       "...                       ...          ...    ...             ...\n",
       "11483  50iN4QFD9Z9S1KAzDLvAju    anime rap     52    Divide Music\n",
       "11484  5y9l3QufypVWqKc7TtLNfb      various     32      Villainous\n",
       "11485  1LjfjX3LTdfwdkewSZkV1Z      various      3            None\n",
       "11486  5iSgWCXiIYvctWEmKEP44X      various     19            None\n",
       "11487  64OkQdNXyU4hWlQj7DTznq      various     14            None\n",
       "\n",
       "[11488 rows x 4 columns]"
      ]
     },
     "execution_count": 14,
     "metadata": {},
     "output_type": "execute_result"
    }
   ],
   "source": [
    "df2"
   ]
  },
  {
   "cell_type": "code",
   "execution_count": 15,
   "id": "0dfbc7c2",
   "metadata": {},
   "outputs": [],
   "source": [
    "df2.to_csv(\"another_merged.csv\")"
   ]
  },
  {
   "cell_type": "code",
   "execution_count": null,
   "id": "d6470c0d",
   "metadata": {},
   "outputs": [],
   "source": []
  }
 ],
 "metadata": {
  "kernelspec": {
   "display_name": "Python 3 (ipykernel)",
   "language": "python",
   "name": "python3"
  },
  "language_info": {
   "codemirror_mode": {
    "name": "ipython",
    "version": 3
   },
   "file_extension": ".py",
   "mimetype": "text/x-python",
   "name": "python",
   "nbconvert_exporter": "python",
   "pygments_lexer": "ipython3",
   "version": "3.8.16"
  }
 },
 "nbformat": 4,
 "nbformat_minor": 5
}
